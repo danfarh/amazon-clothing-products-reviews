{
 "cells": [
  {
   "cell_type": "code",
   "execution_count": 1,
   "id": "957a003a",
   "metadata": {},
   "outputs": [],
   "source": [
    "import pandas as pd"
   ]
  },
  {
   "cell_type": "code",
   "execution_count": 6,
   "id": "b0900062",
   "metadata": {},
   "outputs": [],
   "source": [
    "df = pd.read_csv('review_50_clothing_product.csv')"
   ]
  },
  {
   "cell_type": "code",
   "execution_count": 7,
   "id": "08295843",
   "metadata": {},
   "outputs": [
    {
     "data": {
      "text/html": [
       "<div>\n",
       "<style scoped>\n",
       "    .dataframe tbody tr th:only-of-type {\n",
       "        vertical-align: middle;\n",
       "    }\n",
       "\n",
       "    .dataframe tbody tr th {\n",
       "        vertical-align: top;\n",
       "    }\n",
       "\n",
       "    .dataframe thead th {\n",
       "        text-align: right;\n",
       "    }\n",
       "</style>\n",
       "<table border=\"1\" class=\"dataframe\">\n",
       "  <thead>\n",
       "    <tr style=\"text-align: right;\">\n",
       "      <th></th>\n",
       "      <th>Unnamed: 0</th>\n",
       "      <th>stars</th>\n",
       "      <th>title</th>\n",
       "      <th>body</th>\n",
       "    </tr>\n",
       "  </thead>\n",
       "  <tbody>\n",
       "    <tr>\n",
       "      <th>0</th>\n",
       "      <td>0</td>\n",
       "      <td>4.0 out of 5 stars</td>\n",
       "      <td>Short people and big booty Judy’s.</td>\n",
       "      <td>Honest review would be more like a 4.5. Issue ...</td>\n",
       "    </tr>\n",
       "    <tr>\n",
       "      <th>1</th>\n",
       "      <td>1</td>\n",
       "      <td>4.0 out of 5 stars</td>\n",
       "      <td>Great Pants</td>\n",
       "      <td>I LOVE these pants! I originally bought 2x bec...</td>\n",
       "    </tr>\n",
       "    <tr>\n",
       "      <th>2</th>\n",
       "      <td>2</td>\n",
       "      <td>5.0 out of 5 stars</td>\n",
       "      <td>Kinda big</td>\n",
       "      <td>I usually wear a medium however this was close...</td>\n",
       "    </tr>\n",
       "    <tr>\n",
       "      <th>3</th>\n",
       "      <td>3</td>\n",
       "      <td>5.0 out of 5 stars</td>\n",
       "      <td>OMG I love these pants.</td>\n",
       "      <td>They feel so good and smooth. Great if you are...</td>\n",
       "    </tr>\n",
       "    <tr>\n",
       "      <th>4</th>\n",
       "      <td>4</td>\n",
       "      <td>4.0 out of 5 stars</td>\n",
       "      <td>Nice, but large</td>\n",
       "      <td>These are comfortable, but as others have ment...</td>\n",
       "    </tr>\n",
       "  </tbody>\n",
       "</table>\n",
       "</div>"
      ],
      "text/plain": [
       "   Unnamed: 0               stars                               title  \\\n",
       "0           0  4.0 out of 5 stars  Short people and big booty Judy’s.   \n",
       "1           1  4.0 out of 5 stars                         Great Pants   \n",
       "2           2  5.0 out of 5 stars                           Kinda big   \n",
       "3           3  5.0 out of 5 stars             OMG I love these pants.   \n",
       "4           4  4.0 out of 5 stars                     Nice, but large   \n",
       "\n",
       "                                                body  \n",
       "0  Honest review would be more like a 4.5. Issue ...  \n",
       "1  I LOVE these pants! I originally bought 2x bec...  \n",
       "2  I usually wear a medium however this was close...  \n",
       "3  They feel so good and smooth. Great if you are...  \n",
       "4  These are comfortable, but as others have ment...  "
      ]
     },
     "execution_count": 7,
     "metadata": {},
     "output_type": "execute_result"
    }
   ],
   "source": [
    "df.head()"
   ]
  },
  {
   "cell_type": "code",
   "execution_count": 8,
   "id": "482eda0c",
   "metadata": {},
   "outputs": [
    {
     "data": {
      "text/plain": [
       "(114451, 4)"
      ]
     },
     "execution_count": 8,
     "metadata": {},
     "output_type": "execute_result"
    }
   ],
   "source": [
    "df.shape"
   ]
  },
  {
   "cell_type": "code",
   "execution_count": 9,
   "id": "2c9b91bb",
   "metadata": {},
   "outputs": [],
   "source": [
    "df['star'] = df['stars'].apply(lambda x: str(x).split()[0]).astype(float)"
   ]
  },
  {
   "cell_type": "code",
   "execution_count": 10,
   "id": "67d21adc",
   "metadata": {},
   "outputs": [
    {
     "data": {
      "text/html": [
       "<div>\n",
       "<style scoped>\n",
       "    .dataframe tbody tr th:only-of-type {\n",
       "        vertical-align: middle;\n",
       "    }\n",
       "\n",
       "    .dataframe tbody tr th {\n",
       "        vertical-align: top;\n",
       "    }\n",
       "\n",
       "    .dataframe thead th {\n",
       "        text-align: right;\n",
       "    }\n",
       "</style>\n",
       "<table border=\"1\" class=\"dataframe\">\n",
       "  <thead>\n",
       "    <tr style=\"text-align: right;\">\n",
       "      <th></th>\n",
       "      <th>Unnamed: 0</th>\n",
       "      <th>stars</th>\n",
       "      <th>title</th>\n",
       "      <th>body</th>\n",
       "      <th>star</th>\n",
       "    </tr>\n",
       "  </thead>\n",
       "  <tbody>\n",
       "    <tr>\n",
       "      <th>0</th>\n",
       "      <td>0</td>\n",
       "      <td>4.0 out of 5 stars</td>\n",
       "      <td>Short people and big booty Judy’s.</td>\n",
       "      <td>Honest review would be more like a 4.5. Issue ...</td>\n",
       "      <td>4.0</td>\n",
       "    </tr>\n",
       "    <tr>\n",
       "      <th>1</th>\n",
       "      <td>1</td>\n",
       "      <td>4.0 out of 5 stars</td>\n",
       "      <td>Great Pants</td>\n",
       "      <td>I LOVE these pants! I originally bought 2x bec...</td>\n",
       "      <td>4.0</td>\n",
       "    </tr>\n",
       "    <tr>\n",
       "      <th>2</th>\n",
       "      <td>2</td>\n",
       "      <td>5.0 out of 5 stars</td>\n",
       "      <td>Kinda big</td>\n",
       "      <td>I usually wear a medium however this was close...</td>\n",
       "      <td>5.0</td>\n",
       "    </tr>\n",
       "    <tr>\n",
       "      <th>3</th>\n",
       "      <td>3</td>\n",
       "      <td>5.0 out of 5 stars</td>\n",
       "      <td>OMG I love these pants.</td>\n",
       "      <td>They feel so good and smooth. Great if you are...</td>\n",
       "      <td>5.0</td>\n",
       "    </tr>\n",
       "    <tr>\n",
       "      <th>4</th>\n",
       "      <td>4</td>\n",
       "      <td>4.0 out of 5 stars</td>\n",
       "      <td>Nice, but large</td>\n",
       "      <td>These are comfortable, but as others have ment...</td>\n",
       "      <td>4.0</td>\n",
       "    </tr>\n",
       "  </tbody>\n",
       "</table>\n",
       "</div>"
      ],
      "text/plain": [
       "   Unnamed: 0               stars                               title  \\\n",
       "0           0  4.0 out of 5 stars  Short people and big booty Judy’s.   \n",
       "1           1  4.0 out of 5 stars                         Great Pants   \n",
       "2           2  5.0 out of 5 stars                           Kinda big   \n",
       "3           3  5.0 out of 5 stars             OMG I love these pants.   \n",
       "4           4  4.0 out of 5 stars                     Nice, but large   \n",
       "\n",
       "                                                body  star  \n",
       "0  Honest review would be more like a 4.5. Issue ...   4.0  \n",
       "1  I LOVE these pants! I originally bought 2x bec...   4.0  \n",
       "2  I usually wear a medium however this was close...   5.0  \n",
       "3  They feel so good and smooth. Great if you are...   5.0  \n",
       "4  These are comfortable, but as others have ment...   4.0  "
      ]
     },
     "execution_count": 10,
     "metadata": {},
     "output_type": "execute_result"
    }
   ],
   "source": [
    "df.head()"
   ]
  },
  {
   "cell_type": "code",
   "execution_count": 15,
   "id": "308f9e39",
   "metadata": {},
   "outputs": [],
   "source": [
    "indexAge = df[(df['star'] == 3)].index\n",
    "df.drop(indexAge, inplace=True)"
   ]
  },
  {
   "cell_type": "code",
   "execution_count": 16,
   "id": "d8f0aabb",
   "metadata": {},
   "outputs": [],
   "source": [
    "df['sentiment'] = df['star'].apply(lambda x: 1 if x >= 3 else 0)"
   ]
  },
  {
   "cell_type": "code",
   "execution_count": 17,
   "id": "1eafaf9f",
   "metadata": {},
   "outputs": [
    {
     "data": {
      "text/html": [
       "<div>\n",
       "<style scoped>\n",
       "    .dataframe tbody tr th:only-of-type {\n",
       "        vertical-align: middle;\n",
       "    }\n",
       "\n",
       "    .dataframe tbody tr th {\n",
       "        vertical-align: top;\n",
       "    }\n",
       "\n",
       "    .dataframe thead th {\n",
       "        text-align: right;\n",
       "    }\n",
       "</style>\n",
       "<table border=\"1\" class=\"dataframe\">\n",
       "  <thead>\n",
       "    <tr style=\"text-align: right;\">\n",
       "      <th></th>\n",
       "      <th>Unnamed: 0</th>\n",
       "      <th>stars</th>\n",
       "      <th>title</th>\n",
       "      <th>body</th>\n",
       "      <th>star</th>\n",
       "      <th>sentiment</th>\n",
       "    </tr>\n",
       "  </thead>\n",
       "  <tbody>\n",
       "    <tr>\n",
       "      <th>0</th>\n",
       "      <td>0</td>\n",
       "      <td>4.0 out of 5 stars</td>\n",
       "      <td>Short people and big booty Judy’s.</td>\n",
       "      <td>Honest review would be more like a 4.5. Issue ...</td>\n",
       "      <td>4.0</td>\n",
       "      <td>1</td>\n",
       "    </tr>\n",
       "    <tr>\n",
       "      <th>1</th>\n",
       "      <td>1</td>\n",
       "      <td>4.0 out of 5 stars</td>\n",
       "      <td>Great Pants</td>\n",
       "      <td>I LOVE these pants! I originally bought 2x bec...</td>\n",
       "      <td>4.0</td>\n",
       "      <td>1</td>\n",
       "    </tr>\n",
       "    <tr>\n",
       "      <th>2</th>\n",
       "      <td>2</td>\n",
       "      <td>5.0 out of 5 stars</td>\n",
       "      <td>Kinda big</td>\n",
       "      <td>I usually wear a medium however this was close...</td>\n",
       "      <td>5.0</td>\n",
       "      <td>1</td>\n",
       "    </tr>\n",
       "    <tr>\n",
       "      <th>3</th>\n",
       "      <td>3</td>\n",
       "      <td>5.0 out of 5 stars</td>\n",
       "      <td>OMG I love these pants.</td>\n",
       "      <td>They feel so good and smooth. Great if you are...</td>\n",
       "      <td>5.0</td>\n",
       "      <td>1</td>\n",
       "    </tr>\n",
       "    <tr>\n",
       "      <th>4</th>\n",
       "      <td>4</td>\n",
       "      <td>4.0 out of 5 stars</td>\n",
       "      <td>Nice, but large</td>\n",
       "      <td>These are comfortable, but as others have ment...</td>\n",
       "      <td>4.0</td>\n",
       "      <td>1</td>\n",
       "    </tr>\n",
       "  </tbody>\n",
       "</table>\n",
       "</div>"
      ],
      "text/plain": [
       "   Unnamed: 0               stars                               title  \\\n",
       "0           0  4.0 out of 5 stars  Short people and big booty Judy’s.   \n",
       "1           1  4.0 out of 5 stars                         Great Pants   \n",
       "2           2  5.0 out of 5 stars                           Kinda big   \n",
       "3           3  5.0 out of 5 stars             OMG I love these pants.   \n",
       "4           4  4.0 out of 5 stars                     Nice, but large   \n",
       "\n",
       "                                                body  star  sentiment  \n",
       "0  Honest review would be more like a 4.5. Issue ...   4.0          1  \n",
       "1  I LOVE these pants! I originally bought 2x bec...   4.0          1  \n",
       "2  I usually wear a medium however this was close...   5.0          1  \n",
       "3  They feel so good and smooth. Great if you are...   5.0          1  \n",
       "4  These are comfortable, but as others have ment...   4.0          1  "
      ]
     },
     "execution_count": 17,
     "metadata": {},
     "output_type": "execute_result"
    }
   ],
   "source": [
    "df.head()"
   ]
  },
  {
   "cell_type": "code",
   "execution_count": 18,
   "id": "ba584044",
   "metadata": {},
   "outputs": [
    {
     "data": {
      "text/plain": [
       "array([1, 0], dtype=int64)"
      ]
     },
     "execution_count": 18,
     "metadata": {},
     "output_type": "execute_result"
    }
   ],
   "source": [
    "df['sentiment'].unique()"
   ]
  },
  {
   "cell_type": "code",
   "execution_count": 19,
   "id": "0153e7fd",
   "metadata": {},
   "outputs": [
    {
     "data": {
      "text/plain": [
       "1    64680\n",
       "0    42780\n",
       "Name: sentiment, dtype: int64"
      ]
     },
     "execution_count": 19,
     "metadata": {},
     "output_type": "execute_result"
    }
   ],
   "source": [
    "df['sentiment'].value_counts()"
   ]
  },
  {
   "cell_type": "code",
   "execution_count": null,
   "id": "b4dd097a",
   "metadata": {},
   "outputs": [],
   "source": []
  }
 ],
 "metadata": {
  "kernelspec": {
   "display_name": "Python 3 (ipykernel)",
   "language": "python",
   "name": "python3"
  },
  "language_info": {
   "codemirror_mode": {
    "name": "ipython",
    "version": 3
   },
   "file_extension": ".py",
   "mimetype": "text/x-python",
   "name": "python",
   "nbconvert_exporter": "python",
   "pygments_lexer": "ipython3",
   "version": "3.9.7"
  }
 },
 "nbformat": 4,
 "nbformat_minor": 5
}
